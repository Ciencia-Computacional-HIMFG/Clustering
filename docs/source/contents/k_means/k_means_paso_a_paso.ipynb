{
 "cells": [
  {
   "cell_type": "markdown",
   "id": "5acf7211-7ef5-42bb-97d0-ab54a4c36725",
   "metadata": {},
   "source": [
    "# K-means paso a paso"
   ]
  },
  {
   "cell_type": "markdown",
   "id": "14bfa7fc-3f63-45da-937c-32bea96043c1",
   "metadata": {},
   "source": [
    "## Importamos las librerías que necesitamos\n",
    "\n",
    "En primer lugar importamos las librerías que vamos a necesitar:\n",
    "- Numpy (para trabajar con arreglos numéricos -vectores, matrices, tensores...-)\n",
    "- Matplotlib (para las representaciones gráficas)\n",
    "- Scikit-learn (para generar el conjunto de datos con el que trabajaremos)"
   ]
  },
  {
   "cell_type": "code",
   "execution_count": 1,
   "id": "f3bd125d-0205-45a9-9d5a-95efd041b70a",
   "metadata": {},
   "outputs": [],
   "source": [
    "from sklearn import datasets\n",
    "import matplotlib.pyplot as plt\n",
    "import numpy as np"
   ]
  },
  {
   "cell_type": "markdown",
   "id": "c6a3e36f-1585-43e8-a9e3-cedd61382d69",
   "metadata": {},
   "source": [
    "## Generamos los datos con los que vamos a trabajar\n",
    "\n",
    "Scikit-learn me permite fácilmente generar en el espacio de coordenadas (features) que quiera unas distribuciones de puntos agrupadas en el espacio. Para este tutorial trabajaremos con 3 groups en dimensión 2 (n_features)."
   ]
  },
  {
   "cell_type": "code",
   "execution_count": 6,
   "id": "00055075-005a-4fb3-843c-70fc8c6cd07b",
   "metadata": {},
   "outputs": [],
   "source": [
    "dataset, membership, centers = datasets.make_blobs(n_samples=500, n_features=2,\n",
    "                                                   centers=3, return_centers=True,\n",
    "                                                   cluster_std=1.0)"
   ]
  },
  {
   "cell_type": "markdown",
   "id": "fce599ec-4616-44cd-965e-81f4c9409940",
   "metadata": {},
   "source": [
    "Representamos nuestros puntos, nuestros datos, para conocerlos y estimar cuál es el resultado que debemos esperar de nuestro algoritmo de K-means."
   ]
  },
  {
   "cell_type": "code",
   "execution_count": 7,
   "id": "21da360c-42de-4619-8107-c193df400c9f",
   "metadata": {},
   "outputs": [
    {
     "data": {
      "image/png": "[encoded data removed]",
      "text/plain": [
       "<Figure size 640x480 with 1 Axes>"
      ]
     },
     "metadata": {},
     "output_type": "display_data"
    }
   ],
   "source": [
    "plt.scatter(dataset[(membership==0),0], dataset[(membership==0),1], color='r')\n",
    "plt.scatter(dataset[(membership==1),0], dataset[(membership==1),1], color='g')\n",
    "plt.scatter(dataset[(membership==2),0], dataset[(membership==2),1], color='b')\n",
    "plt.show()"
   ]
  },
  {
   "cell_type": "markdown",
   "id": "73c006bb-ddeb-4c07-bab5-7fd3fdabe0cd",
   "metadata": {},
   "source": [
    "## Construimos y ejecutamos nuestro propio algoritmo paso a paso\n",
    "\n",
    "Defino el número de centroides:"
   ]
  },
  {
   "cell_type": "code",
   "execution_count": 8,
   "id": "0f824416-acaf-4c31-b21c-7ae63772a5a8",
   "metadata": {},
   "outputs": [],
   "source": [
    "k=3"
   ]
  },
  {
   "cell_type": "markdown",
   "id": "72f780ec-1217-4d7f-947e-899c30666771",
   "metadata": {},
   "source": [
    "Inicializo aleatoriamente las coordenadas de los centroides en la región del espacio 2D ([-10, 10),[-10, 10))."
   ]
  },
  {
   "cell_type": "code",
   "execution_count": 9,
   "id": "7b70bfd4-eba1-46b8-b70b-aee5320b6e51",
   "metadata": {},
   "outputs": [],
   "source": [
    "coors_k = np.random.uniform(low=-10.0, high=10.0, size=[k,2])"
   ]
  },
  {
   "cell_type": "markdown",
   "id": "b2c843b5-c2af-433b-81c0-f721991f7529",
   "metadata": {},
   "source": [
    "Creo un vector de números enteros que almacenará el índice de cluster al que pertenece cada punto:"
   ]
  },
  {
   "cell_type": "code",
   "execution_count": 10,
   "id": "9a5eb17c-4a3b-4b7a-96af-97473105c54e",
   "metadata": {},
   "outputs": [],
   "source": [
    "n_data = dataset.shape[0]"
   ]
  },
  {
   "cell_type": "code",
   "execution_count": 11,
   "id": "5e4f6824-7868-4877-8010-dd2f162828af",
   "metadata": {},
   "outputs": [],
   "source": [
    "our_membership = np.zeros([n_data], dtype=int)"
   ]
  },
  {
   "cell_type": "markdown",
   "id": "701695d9-63a6-42d7-883d-dcb974c30333",
   "metadata": {},
   "source": [
    "A continuación defino la variable que monitorizará el desplazamiento más grande de los centroides con el fin de ser empleado como parámetro que interrumpe la iteración del algoritmo."
   ]
  },
  {
   "cell_type": "code",
   "execution_count": 12,
   "id": "2fa4f99b-8bfc-477b-ad6c-ab26215e291b",
   "metadata": {},
   "outputs": [],
   "source": [
    "bigest_movement = np.inf"
   ]
  },
  {
   "cell_type": "markdown",
   "id": "0a7542db-19b8-4821-a2ab-2abfed757cb2",
   "metadata": {},
   "source": [
    "Defino y ejecuto el bucle del algoritmo.\n",
    "\n",
    "Recuerda que la implementación debe hacer los siguientes pasos."
   ]
  },
  {
   "cell_type": "code",
   "execution_count": 13,
   "id": "40d8e219-d239-46da-87c2-2b9f3cd3b86f",
   "metadata": {},
   "outputs": [
    {
     "name": "stdout",
     "output_type": "stream",
     "text": [
      "Iteración 1 con desplazamiento más largo 9.598694190807288\n",
      "Iteración 2 con desplazamiento más largo 1.8429367230032416\n",
      "Iteración 3 con desplazamiento más largo 0.0\n"
     ]
    }
   ],
   "source": [
    "iteracion = 1\n",
    "\n",
    "while (bigest_movement>0.0001): # Interrumpo el bucle si el desplazamiento más largo es menor o igual que 0.0001\n",
    "    \n",
    "    # Adjudico puntos al centroide más cercano\n",
    "    for ii in range(n_data):\n",
    "        aux_dist = np.inf\n",
    "        for jj in range(k):\n",
    "            dist = np.sqrt( (dataset[ii,0]-coors_k[jj,0])**2 +  (dataset[ii,1]-coors_k[jj,1])**2 )\n",
    "            if dist<aux_dist:\n",
    "                aux_dist = dist\n",
    "                our_membership[ii]=jj\n",
    "    \n",
    "    # Recalculo centroides\n",
    "    new_coors_k = np.zeros([k,2], dtype=float)\n",
    "    for ii in range(k):\n",
    "        mask = (our_membership == ii)\n",
    "        new_coors_k[ii,0] = np.mean(dataset[mask, 0])\n",
    "        new_coors_k[ii,1] = np.mean(dataset[mask, 1])\n",
    "\n",
    "    # Miro el desplazamiento mayor de los centroides\n",
    "    \n",
    "    bigest_movement = 0.0\n",
    "    \n",
    "    for ii in range(k):\n",
    "        \n",
    "        movement = np.sqrt( (coors_k[ii,0]-new_coors_k[ii, 0])**2 +  (coors_k[ii,1]-new_coors_k[ii,1])**2 )\n",
    "\n",
    "        if movement>bigest_movement:\n",
    "            bigest_movement = movement\n",
    "    \n",
    "    print(f'Iteración {iteracion} con desplazamiento más largo {bigest_movement}')\n",
    "\n",
    "    # Actualizo las coordenadas de los centroides\n",
    "    coors_k = new_coors_k\n",
    "\n",
    "    # Incremento el índice de iteración en una unidad\n",
    "\n",
    "    iteracion += 1"
   ]
  },
  {
   "cell_type": "markdown",
   "id": "342ef2b6-0861-48fa-9c63-3b87b60f8859",
   "metadata": {},
   "source": [
    "## Representamos los clusters definidos por nuestro algoritmo de K-means\n",
    "\n",
    "Representamos los clusters definidos por nuestro algoritmo de K-means y comprobamos que se parecen a lo que por la construcción de nuestros datos de entrada ya esperábamos."
   ]
  },
  {
   "cell_type": "code",
   "execution_count": 14,
   "id": "e8116831-4d9f-4579-875e-797dda8d819a",
   "metadata": {},
   "outputs": [
    {
     "data": {
      "image/png": "[encoded data removed]",
      "text/plain": [
       "<Figure size 640x480 with 1 Axes>"
      ]
     },
     "metadata": {},
     "output_type": "display_data"
    }
   ],
   "source": [
    "plt.scatter(dataset[(our_membership==0),0], dataset[(our_membership==0),1], color='r')\n",
    "plt.scatter(dataset[(our_membership==1),0], dataset[(our_membership==1),1], color='g')\n",
    "plt.scatter(dataset[(our_membership==2),0], dataset[(our_membership==2),1], color='b')\n",
    "plt.show()"
   ]
  }
 ],
 "metadata": {
  "kernelspec": {
   "display_name": "Python 3 (ipykernel)",
   "language": "python",
   "name": "python3"
  },
  "language_info": {
   "codemirror_mode": {
    "name": "ipython",
    "version": 3
   },
   "file_extension": ".py",
   "mimetype": "text/x-python",
   "name": "python",
   "nbconvert_exporter": "python",
   "pygments_lexer": "ipython3",
   "version": "3.11.10"
  }
 },
 "nbformat": 4,
 "nbformat_minor": 5
}
